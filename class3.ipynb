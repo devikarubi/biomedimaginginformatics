{
 "cells": [
  {
   "cell_type": "code",
   "execution_count": null,
   "metadata": {},
   "outputs": [],
   "source": [
    "from PIL import Image, ImageOps"
   ]
  },
  {
   "cell_type": "code",
   "execution_count": null,
   "metadata": {},
   "outputs": [],
   "source": [
    "im1 = Image.open('/home/kmit/Downloads/images/TCGA-CS-4938-01Z-00-DX1_20x_17248_8864_256x256.png')\n",
    "im_invert1 = ImageOps.invert(im1)\n",
    "im_invert1.save('/home/kmit/Downloads/images/invert_bio.png', quality=95)"
   ]
  },
  {
   "cell_type": "code",
   "execution_count": null,
   "metadata": {},
   "outputs": [],
   "source": [
    "im1"
   ]
  },
  {
   "cell_type": "code",
   "execution_count": null,
   "metadata": {},
   "outputs": [],
   "source": [
    "im_invert1"
   ]
  },
  {
   "cell_type": "code",
   "execution_count": null,
   "metadata": {},
   "outputs": [],
   "source": [
    "from PIL import Image\n",
    "\n",
    "col = Image.open(\"/home/kmit/Downloads/images/TCGA-CS-4938-01Z-00-DX1_20x_17248_8864_256x256.png\")\n",
    "gray = col.convert('L')\n",
    "bw = gray.point(lambda x: 0 if x<128 else 255, '1')\n"
   ]
  },
  {
   "cell_type": "code",
   "execution_count": null,
   "metadata": {},
   "outputs": [],
   "source": [
    "col\n"
   ]
  },
  {
   "cell_type": "code",
   "execution_count": null,
   "metadata": {},
   "outputs": [],
   "source": [
    "gray"
   ]
  },
  {
   "cell_type": "code",
   "execution_count": null,
   "metadata": {},
   "outputs": [],
   "source": [
    "bw"
   ]
  },
  {
   "cell_type": "code",
   "execution_count": null,
   "metadata": {},
   "outputs": [],
   "source": [
    "#----- Example Python program for logarithmic transformation of a Digital Image -----\n",
    "\n",
    " \n",
    "\n",
    "# import Pillow modules\n",
    "\n",
    "from PIL import Image\n",
    "\n",
    "from PIL import ImageFilter\n",
    "\n",
    "import math\n",
    "\n",
    " \n",
    "\n",
    "# Compute log\n",
    "\n",
    "def logTransform(c, f):\n",
    "\n",
    "    g = c * math.log(float(1 + f),10);\n",
    "\n",
    "    return g;\n",
    "\n",
    " \n",
    "\n",
    "# Apply logarithmic transformation for an image  \n",
    "\n",
    "def logTransformImage(img, outputMax = 255, inputMax=255):\n",
    "\n",
    "    c = outputMax/math.log(inputMax+1,10);\n",
    "\n",
    "   \n",
    "\n",
    "    # Read pixels and apply logarithmic transformation\n",
    "\n",
    "    for i in range(0, img.size[0]-1):\n",
    "\n",
    "        for j in range(0, img.size[1]-1):\n",
    "\n",
    "            # Get pixel value at (x,y) position of the image\n",
    "\n",
    "            f = img.getpixel((i,j));\n",
    "\n",
    "           \n",
    "\n",
    "            # Do log transformation of the pixel\n",
    "\n",
    "            redPixel    = round(logTransform(c, f[0]));\n",
    "\n",
    "            greenPixel  = round(logTransform(c, f[1]));\n",
    "\n",
    "            bluePixel   = round(logTransform(c, f[2]));\n",
    "\n",
    " \n",
    "\n",
    "            # Modify the image with the transformed pixel values\n",
    "\n",
    "            img.putpixel((i,j),(redPixel, greenPixel, bluePixel));\n",
    "\n",
    " \n",
    "\n",
    "    return img;\n",
    "\n",
    "   \n",
    "\n",
    "# Display the original image\n",
    "\n",
    "imageFileName = \"/home/kmit/Downloads/images/TCGA-CS-4938-01Z-00-DX1_20x_17248_8864_256x256.png\";\n",
    "\n",
    "img5 = Image.open(imageFileName);\n",
    "\n",
    "#img.show();\n",
    "\n",
    " \n",
    "\n",
    "# Display the image after applying the logarithmic transformation\n",
    "\n",
    "logTransformedImage = logTransformImage(img5);\n",
    "\n",
    "#logTransformedImage.show();"
   ]
  },
  {
   "cell_type": "code",
   "execution_count": null,
   "metadata": {},
   "outputs": [],
   "source": [
    "img5"
   ]
  },
  {
   "cell_type": "code",
   "execution_count": null,
   "metadata": {},
   "outputs": [],
   "source": [
    "logTransformedImage"
   ]
  },
  {
   "cell_type": "code",
   "execution_count": null,
   "metadata": {},
   "outputs": [],
   "source": [
    "import numpy\n",
    "import matplotlib.pyplot as plt\n",
    "from copy import deepcopy\n",
    "from PIL import Image\n",
    "from math import cos, sin\n",
    "\n",
    "\n",
    "def getGrayColor(rgb):\n",
    "    return rgb[0]\n",
    "\n",
    "\n",
    "def setGrayColor(color):\n",
    "    return [color, color, color]\n",
    "\n",
    "\n",
    "img = Image.open('/home/kmit/Downloads/images/TCGA-CS-4938-01Z-00-DX1_20x_17248_8864_256x256.png')\n",
    "img = numpy.asarray(img)\n",
    "\n",
    "c = 1\n",
    "y = float(input(\"input y :\"))\n",
    "\n",
    "# copy list not reference\n",
    "pwl = deepcopy(img)\n",
    "\n",
    "\n",
    "min = 99999999999999\n",
    "max = 0\n",
    "\n",
    "for i in range(len(img)):\n",
    "    for j in range(len(img[i])):\n",
    "        s = (c*img[i][j][0])**y\n",
    "        if(s > max):\n",
    "            max = s\n",
    "        if(s < min):\n",
    "            min = s\n",
    "\n",
    "for i in range(len(img)):\n",
    "    for j in range(len(img[i])):\n",
    "        s = (c*img[i][j][0])**y\n",
    "        s = (s-min)/(max-min)\n",
    "        s = s*254\n",
    "        pwl[i][j] = setGrayColor(s)\n",
    "\n",
    "print('min:',min,'max:',max)\n",
    "\n",
    "plt.subplot(2, 2, 1)\n",
    "plt.imshow(img)\n",
    "plt.subplot(2, 2, 2)\n",
    "plt.imshow(pwl)\n",
    "\n",
    "\n",
    "plt.show()"
   ]
  },
  {
   "cell_type": "code",
   "execution_count": null,
   "metadata": {},
   "outputs": [],
   "source": [
    "import cv2\n",
    "import numpy as np\n",
    "from matplotlib import pyplot as plt\n",
    "\n",
    "img = cv2.imread('/home/kmit/Downloads/images/TCGA-CS-4938-01Z-00-DX1_20x_17248_8864_256x256.png',0)\n",
    "plt.hist(img.ravel(),256,[0,256]); plt.show()"
   ]
  },
  {
   "cell_type": "code",
   "execution_count": null,
   "metadata": {},
   "outputs": [],
   "source": []
  },
  {
   "cell_type": "code",
   "execution_count": null,
   "metadata": {},
   "outputs": [],
   "source": []
  }
 ],
 "metadata": {
  "kernelspec": {
   "display_name": "Python 3",
   "language": "python",
   "name": "python3"
  },
  "language_info": {
   "codemirror_mode": {
    "name": "ipython",
    "version": 3
   },
   "file_extension": ".py",
   "mimetype": "text/x-python",
   "name": "python",
   "nbconvert_exporter": "python",
   "pygments_lexer": "ipython3",
   "version": "3.6.8"
  }
 },
 "nbformat": 4,
 "nbformat_minor": 2
}
