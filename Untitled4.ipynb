{
 "cells": [
  {
   "cell_type": "code",
   "execution_count": null,
   "metadata": {},
   "outputs": [],
   "source": [
    "# Python program to read image using OpenCV\n",
    "  \n",
    "# importing OpenCV(cv2) module\n",
    "import cv2\n",
    "  \n",
    "# Save image in set directory\n",
    "# Read RGB image\n",
    "path = '/home/raja/kmit/classes/TCGA-CS-4938-01Z-00-DX1_20x_17248_8864_256x256.png'\n",
    "img = cv2.imread(path, -1) \n",
    "  \n",
    "# Output img with window name as 'image'\n",
    "cv2.imshow('image', img) \n",
    "  \n",
    "# Maintain output window utill\n",
    "# user presses a key\n",
    "cv2.waitKey(0)        \n",
    "  \n",
    "# Destroying present windows on screen\n",
    "cv2.destroyAllWindows() "
   ]
  },
  {
   "cell_type": "code",
   "execution_count": null,
   "metadata": {},
   "outputs": [],
   "source": [
    "# Python program to read \n",
    "# image using matplotlib\n",
    "  \n",
    "# importing matplotlib modules\n",
    "import matplotlib.image as mpimg\n",
    "import matplotlib.pyplot as plt\n",
    "  \n",
    "# Read Images\n",
    "img = mpimg.imread('/home/raja/kmit/classes/TCGA-CS-4938-01Z-00-DX1_20x_17248_8864_256x256.png')\n",
    "  \n",
    "# Output Images\n",
    "plt.imshow(img)"
   ]
  },
  {
   "cell_type": "code",
   "execution_count": null,
   "metadata": {},
   "outputs": [],
   "source": [
    "# Python program to read\n",
    "# image using PIL module\n",
    "  \n",
    "# importing PIL\n",
    "from PIL import Image\n",
    "  \n",
    "# Read image\n",
    "img = Image.open('/home/raja/kmit/classes/TCGA-CS-4938-01Z-00-DX1_20x_17248_8864_256x256.png')\n",
    "  \n",
    "# Output Images\n",
    "img.show()\n",
    "  \n",
    "# prints format of image\n",
    "print(img.format)\n",
    "  \n",
    "# prints mode of image\n",
    "print(img.mode)"
   ]
  },
  {
   "cell_type": "code",
   "execution_count": null,
   "metadata": {},
   "outputs": [],
   "source": [
    "# Python3 program to process \n",
    "# images using skikit-image\n",
    "import os\n",
    "  \n",
    "# importing io from skimage\n",
    "import skimage\n",
    "from skimage import io\n",
    "  \n",
    "# way to load car image from file\n",
    "file = os.path.join(skimage.data_dir, '/home/raja/kmit/classes/TCGA-CS-4938-01Z-00-DX1_20x_17248_8864_256x256.png')\n",
    "    \n",
    "cars = io.imread(file)\n",
    "  \n",
    "# way to show the input image\n",
    "io.imshow(cars)\n",
    "io.show()"
   ]
  },
  {
   "cell_type": "code",
   "execution_count": null,
   "metadata": {},
   "outputs": [],
   "source": [
    "import cv2\n",
    "import numpy as np\n",
    "\n",
    "path1= '/home/raja/kmit/classes/images.jpeg'\n",
    "img1 = cv2.imread(path1, -1)\n",
    "cv2.imshow('image1', img1) \n",
    "\n",
    "cv2.waitKey(0)        \n",
    "  \n",
    "# Destroying present windows on screen\n",
    "cv2.destroyAllWindows() "
   ]
  },
  {
   "cell_type": "code",
   "execution_count": 2,
   "metadata": {},
   "outputs": [],
   "source": [
    "ball = img1[280:340, 330:390]\n",
    "img1[273:333, 100:160] = ball"
   ]
  },
  {
   "cell_type": "code",
   "execution_count": null,
   "metadata": {},
   "outputs": [],
   "source": []
  }
 ],
 "metadata": {
  "kernelspec": {
   "display_name": "Python 3",
   "language": "python",
   "name": "python3"
  },
  "language_info": {
   "codemirror_mode": {
    "name": "ipython",
    "version": 3
   },
   "file_extension": ".py",
   "mimetype": "text/x-python",
   "name": "python",
   "nbconvert_exporter": "python",
   "pygments_lexer": "ipython3",
   "version": "3.6.8"
  }
 },
 "nbformat": 4,
 "nbformat_minor": 2
}
