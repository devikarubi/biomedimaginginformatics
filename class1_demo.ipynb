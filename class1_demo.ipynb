{
 "cells": [
  {
   "cell_type": "code",
   "execution_count": 3,
   "metadata": {},
   "outputs": [],
   "source": [
    "# Python program to read image using OpenCV\n",
    "  \n",
    "# importing OpenCV(cv2) module\n",
    "import cv2\n",
    "  \n",
    "# Save image in set directory\n",
    "# Read RGB image\n",
    "path = '/home/kmit/Downloads/images/TCGA-CS-4938-01Z-00-DX1_20x_17248_8864_256x256.png'\n",
    "img = cv2.imread(path, -1) \n",
    "  \n",
    "# Output img with window name as 'image'\n",
    "cv2.imshow('image', img) \n",
    "  \n",
    "# Maintain output window utill\n",
    "# user presses a key\n",
    "cv2.waitKey(0)        \n",
    "  \n",
    "# Destroying present windows on screen\n",
    "cv2.destroyAllWindows() "
   ]
  },
  {
   "cell_type": "code",
   "execution_count": null,
   "metadata": {},
   "outputs": [],
   "source": [
    "# Python program to read \n",
    "# image using matplotlib\n",
    "  \n",
    "# importing matplotlib modules\n",
    "import matplotlib.image as mpimg\n",
    "import matplotlib.pyplot as plt\n",
    "  \n",
    "# Read Images\n",
    "img = mpimg.imread('/home/kmit/Downloads/images/TCGA-CS-4938-01Z-00-DX1_20x_17248_8864_256x256.png')\n",
    "  \n",
    "# Output Images\n",
    "plt.imshow(img)"
   ]
  },
  {
   "cell_type": "code",
   "execution_count": null,
   "metadata": {},
   "outputs": [],
   "source": [
    "# Python program to read\n",
    "# image using PIL module\n",
    "  \n",
    "# importing PIL\n",
    "from PIL import Image\n",
    "  \n",
    "# Read image\n",
    "img = Image.open('/home/kmit/Downloads/images/TCGA-CS-4938-01Z-00-DX1_20x_17248_8864_256x256.png')\n",
    "  \n",
    "# Output Images\n",
    "img.show()\n",
    "  \n",
    "# prints format of image\n",
    "print(img.format)\n",
    "  \n",
    "# prints mode of image\n",
    "print(img.mode)"
   ]
  },
  {
   "cell_type": "code",
   "execution_count": null,
   "metadata": {},
   "outputs": [],
   "source": [
    "# Python3 program to process \n",
    "# images using skikit-image\n",
    "import os\n",
    "  \n",
    "# importing io from skimage\n",
    "import skimage\n",
    "from skimage import io\n",
    "  \n",
    "# way to load car image from file\n",
    "file = os.path.join(skimage.data_dir, '/home/kmit/Downloads/images/TCGA-CS-4938-01Z-00-DX1_20x_17248_8864_256x256.png')\n",
    "    \n",
    "img2 = io.imread(file)\n",
    "  \n",
    "# way to show the input image\n",
    "io.imshow(img2)\n",
    "io.show()"
   ]
  },
  {
   "cell_type": "code",
   "execution_count": null,
   "metadata": {},
   "outputs": [],
   "source": [
    "import cv2\n",
    "import numpy as np\n",
    "\n",
    "#read image\n",
    "src = cv2.imread('/home/kmit/Downloads/images/TCGA-CS-4938-01Z-00-DX1_20x_17248_8864_256x256.png', cv2.IMREAD_UNCHANGED)\n",
    "print(src.shape)\n",
    "\n",
    "# extract red channel\n",
    "red_channel = src[:,:,2]\n",
    "\n",
    "# create empty image with same shape as that of src image\n",
    "red_img = np.zeros(src.shape)\n",
    "\n",
    "#assign the red channel of src to empty image\n",
    "red_img[:,:,2] = red_channel\n",
    "\n",
    "# Output img with window name as 'image'\n",
    "cv2.imshow('image', red_img ) \n",
    "  \n",
    "# Maintain output window utill\n",
    "# user presses a key\n",
    "cv2.waitKey(0)        \n",
    "  \n",
    "# Destroying present windows on screen\n",
    "cv2.destroyAllWindows() "
   ]
  },
  {
   "cell_type": "code",
   "execution_count": 18,
   "metadata": {},
   "outputs": [],
   "source": [
    "import matplotlib.pyplot as plt"
   ]
  },
  {
   "cell_type": "code",
   "execution_count": 19,
   "metadata": {},
   "outputs": [],
   "source": [
    "path = '/home/kmit/Downloads/images/ball.jpeg'\n",
    "image = cv2.imread(path, -1) "
   ]
  },
  {
   "cell_type": "code",
   "execution_count": 20,
   "metadata": {},
   "outputs": [
    {
     "data": {
      "text/plain": [
       "<matplotlib.image.AxesImage at 0x7ff0730c1400>"
      ]
     },
     "execution_count": 20,
     "metadata": {},
     "output_type": "execute_result"
    },
    {
     "data": {
      "image/png": "[encoded data removed]",
      "text/plain": [
       "<Figure size 432x288 with 3 Axes>"
      ]
     },
     "metadata": {
      "needs_background": "light"
     },
     "output_type": "display_data"
    }
   ],
   "source": [
    "%matplotlib inline\n",
    " \n",
    "# Show RGB channel separately in gray scale\n",
    " \n",
    "fig, axes = plt.subplots(1, 3)\n",
    " \n",
    "# image[:, :, 0] is R channel.\n",
    "axes[0].set_title('R channel')\n",
    "axes[0].imshow(image[:, :, 0], cmap='gray')\n",
    "# image[:, :, 1] is G channel.\n",
    "axes[1].set_title('G channel')\n",
    "axes[1].imshow(image[:, :, 1], cmap='gray')\n",
    "# image[:, :, 2] is B channel.\n",
    "axes[2].set_title('B channel')\n",
    "axes[2].imshow(image[:, :, 2], cmap='gray')\n"
   ]
  },
  {
   "cell_type": "code",
   "execution_count": null,
   "metadata": {},
   "outputs": [],
   "source": []
  }
 ],
 "metadata": {
  "kernelspec": {
   "display_name": "Python 3",
   "language": "python",
   "name": "python3"
  },
  "language_info": {
   "codemirror_mode": {
    "name": "ipython",
    "version": 3
   },
   "file_extension": ".py",
   "mimetype": "text/x-python",
   "name": "python",
   "nbconvert_exporter": "python",
   "pygments_lexer": "ipython3",
   "version": "3.6.8"
  }
 },
 "nbformat": 4,
 "nbformat_minor": 2
}
